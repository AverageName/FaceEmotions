{
 "cells": [
  {
   "cell_type": "code",
   "execution_count": 1,
   "metadata": {
    "collapsed": true
   },
   "outputs": [],
   "source": [
    "import torch\n",
    "import torchvision\n",
    "import os\n",
    "import pandas as pd\n",
    "import torch.nn as nn\n",
    "from __future__ import print_function, division\n",
    "from skimage import io, transform\n",
    "import numpy as np\n",
    "import matplotlib.pyplot as plt\n",
    "from torch.utils.data import Dataset, DataLoader\n",
    "from torchvision import transforms, utils,models\n",
    "from torch.optim import lr_scheduler\n",
    "import torch.nn.functional as F\n",
    "import torch.optim as optim\n",
    "from torch.autograd import Variable"
   ]
  },
  {
   "cell_type": "code",
   "execution_count": null,
   "metadata": {
    "collapsed": true
   },
   "outputs": [],
   "source": [
    "#Num of examples"
   ]
  },
  {
   "cell_type": "code",
   "execution_count": 2,
   "metadata": {},
   "outputs": [
    {
     "data": {
      "text/plain": [
       "35887"
      ]
     },
     "execution_count": 2,
     "metadata": {},
     "output_type": "execute_result"
    }
   ],
   "source": [
    "df = pd.read_csv('/home/max/fer2013/fer2013.csv')\n",
    "len(df)"
   ]
  },
  {
   "cell_type": "code",
   "execution_count": null,
   "metadata": {
    "collapsed": true
   },
   "outputs": [],
   "source": [
    "#Dataset for our task"
   ]
  },
  {
   "cell_type": "code",
   "execution_count": 3,
   "metadata": {
    "collapsed": true
   },
   "outputs": [],
   "source": [
    "class FaceEmotionDataset(Dataset):\n",
    "    def __init__(self,csv_file,root_dir,transform=None,train=True):\n",
    "        self.df = pd.read_csv(csv_file)\n",
    "        self.root_dir = root_dir\n",
    "        self.transform = transform\n",
    "        if train:\n",
    "            self.df = self.df[self.df.iloc[:,2]=='Training']\n",
    "        else:\n",
    "            self.df = self.df[self.df.iloc[:,2]!='Training']\n",
    "        \n",
    "    def __len__(self):\n",
    "        return len(self.df)\n",
    "    \n",
    "    def __getitem__(self,idx):\n",
    "        emotion = torch.LongTensor([int(self.df.iloc[idx,0])])\n",
    "        image = pd.DataFrame(float(x) for x in self.df.iloc[idx,1].split(' '))\n",
    "        image = image.as_matrix().reshape(-1,48)\n",
    "        image = np.expand_dims(image,axis = 2)\n",
    "        #image = np.transpose(image,(2,0,1))\n",
    "        image = image.astype(np.float32)\n",
    "        transf_toPil = transforms.ToPILImage()\n",
    "        image = transf_toPil(image)\n",
    "        image = image.convert(\"RGB\")\n",
    "        if transform:\n",
    "            image = self.transform(image)\n",
    "        return image,emotion\n",
    "        \n",
    "classes = ('0','1','2','3','4','5','6')       "
   ]
  },
  {
   "cell_type": "code",
   "execution_count": null,
   "metadata": {
    "collapsed": true
   },
   "outputs": [],
   "source": [
    "#Fine-tuning pretrained resnet18"
   ]
  },
  {
   "cell_type": "code",
   "execution_count": 4,
   "metadata": {
    "collapsed": true
   },
   "outputs": [],
   "source": [
    "model_ft = models.resnet18(pretrained=True)\n",
    "input_ft = model_ft.fc.in_features\n",
    "model_ft.fc = nn.Linear(input_ft,7)\n",
    "model_ft = model_ft.cuda()\n",
    "\n",
    "#Optimizer and scheduler\n",
    "optimizer_2 = optim.Adam(model_ft.parameters(),lr = 1e-4,weight_decay=1e-5)\n",
    "exp_lr_sheduler = lr_scheduler.StepLR(optimizer_2,step_size=7,gamma=0.1)\n",
    "\n",
    "#We should resize our images from 48x48x1 to 224x224x3(using Resize() and convert(),\n",
    "#then transform them to Tensor and normalize\n",
    "transform_resnet = transforms.Compose([transforms.Resize(224),transforms.ToTensor(),\n",
    "                            transforms.Normalize(mean=(0.485, 0.456, 0.406),std=(0.229, 0.224, 0.225))])\n",
    "\n",
    "train_res_dataset = FaceEmotionDataset(csv_file='/home/max/fer2013/fer2013.csv',\n",
    "                            root_dir='home/max/fer2013/',transform = transform_resnet,train=True)\n",
    "test_res_dataset = FaceEmotionDataset(csv_file='/home/max/fer2013/fer2013.csv',\n",
    "                            root_dir='home/max/fer2013/',transform = transform_resnet,train=False)\n",
    "\n",
    "train_res_dataloader = DataLoader(train_res_dataset,batch_size=16,shuffle = True,num_workers=4)\n",
    "test_res_dataloader = DataLoader(test_res_dataset,batch_size=16,shuffle = False,num_workers=4)\n",
    "\n",
    "#Define loss function\n",
    "criterion = nn.CrossEntropyLoss()"
   ]
  },
  {
   "cell_type": "code",
   "execution_count": 5,
   "metadata": {
    "collapsed": true
   },
   "outputs": [],
   "source": [
    "def train (model,criterion,optimizer,scheduler,num_epoches):\n",
    "    model = model.train()\n",
    "    for epoch in range(num_epoches):\n",
    "        scheduler.step()\n",
    "        sum_loss = 0.0\n",
    "        for idx,data in enumerate(train_res_dataloader,0):\n",
    "            batch_loss = 0.0\n",
    "            inputs,labels = data\n",
    "            inputs = Variable(inputs).cuda()\n",
    "            labels = Variable(labels).cuda().squeeze()\n",
    "            optimizer.zero_grad()\n",
    "            outputs = model(inputs)\n",
    "        \n",
    "\n",
    "        \n",
    "            loss = criterion(outputs,labels)\n",
    "            batch_loss +=loss.data[0]\n",
    "            loss.backward()\n",
    "            optimizer.step()\n",
    "            if idx%100 == 99:\n",
    "                print('Epoch: ',epoch,'Num: ',idx+1)\n",
    "                print('Loss: ',batch_loss/100)\n",
    "    return model\n",
    "        "
   ]
  },
  {
   "cell_type": "code",
   "execution_count": 7,
   "metadata": {
    "scrolled": true
   },
   "outputs": [
    {
     "name": "stdout",
     "output_type": "stream",
     "text": [
      "Epoch:  0 Num:  100\n",
      "Loss:  0.009207501411437988\n",
      "Epoch:  0 Num:  200\n",
      "Loss:  0.006822636127471924\n",
      "Epoch:  0 Num:  300\n",
      "Loss:  0.00517301082611084\n",
      "Epoch:  0 Num:  400\n",
      "Loss:  0.008373189568519592\n",
      "Epoch:  0 Num:  500\n",
      "Loss:  0.007190659046173096\n",
      "Epoch:  0 Num:  600\n",
      "Loss:  0.008346097469329834\n",
      "Epoch:  0 Num:  700\n",
      "Loss:  0.005341370701789856\n",
      "Epoch:  0 Num:  800\n",
      "Loss:  0.006144017577171325\n",
      "Epoch:  0 Num:  900\n",
      "Loss:  0.006571654677391053\n",
      "Epoch:  0 Num:  1000\n",
      "Loss:  0.010452055931091308\n",
      "Epoch:  0 Num:  1100\n",
      "Loss:  0.002853377461433411\n",
      "Epoch:  0 Num:  1200\n",
      "Loss:  0.009805010557174683\n",
      "Epoch:  0 Num:  1300\n",
      "Loss:  0.008042297959327697\n",
      "Epoch:  0 Num:  1400\n",
      "Loss:  0.005080782175064087\n",
      "Epoch:  0 Num:  1500\n",
      "Loss:  0.0069392800331115724\n",
      "Epoch:  0 Num:  1600\n",
      "Loss:  0.006541945934295654\n",
      "Epoch:  0 Num:  1700\n",
      "Loss:  0.0037156122922897337\n"
     ]
    }
   ],
   "source": [
    "model_ft = train (model_ft,criterion,optimizer_2,exp_lr_sheduler,1)"
   ]
  },
  {
   "cell_type": "code",
   "execution_count": null,
   "metadata": {
    "collapsed": true
   },
   "outputs": [],
   "source": [
    "#Saving and loading model"
   ]
  },
  {
   "cell_type": "code",
   "execution_count": 27,
   "metadata": {
    "collapsed": true
   },
   "outputs": [],
   "source": [
    "torch.save(model_ft,'/home/max/model.pth')"
   ]
  },
  {
   "cell_type": "code",
   "execution_count": 6,
   "metadata": {
    "collapsed": true
   },
   "outputs": [],
   "source": [
    "model_ft = torch.load('/home/max/model.pth')"
   ]
  },
  {
   "cell_type": "code",
   "execution_count": null,
   "metadata": {
    "collapsed": true
   },
   "outputs": [],
   "source": [
    "#Transforms for own model"
   ]
  },
  {
   "cell_type": "code",
   "execution_count": 5,
   "metadata": {
    "collapsed": true
   },
   "outputs": [],
   "source": [
    "transform_1 = transforms.Compose(\n",
    "    [transforms.ToTensor(),\n",
    "     transforms.Normalize(mean=(0.485, 0.456, 0.406),std=(0.229, 0.224, 0.225))])\n",
    "\n",
    "train_dataset = FaceEmotionDataset(csv_file='/home/max/fer2013/fer2013.csv',\n",
    "                                    root_dir='home/max/fer2013/',transform = transform_1,train=True)\n",
    "test_dataset = FaceEmotionDataset(csv_file='/home/max/fer2013/fer2013.csv',\n",
    "                                    root_dir='home/max/fer2013/',transform = transform_1,train=False)"
   ]
  },
  {
   "cell_type": "code",
   "execution_count": null,
   "metadata": {
    "collapsed": true
   },
   "outputs": [],
   "source": [
    "#My own model"
   ]
  },
  {
   "cell_type": "code",
   "execution_count": 7,
   "metadata": {
    "collapsed": true
   },
   "outputs": [],
   "source": [
    "class Net(nn.Module):\n",
    "    def __init__(self):\n",
    "        super(Net,self).__init__()\n",
    "        self.conv1 = nn.Conv2d(1,10,3)\n",
    "        self.conv2 = nn.Conv2d(10,15,3)\n",
    "        #self.conv3 = nn.Conv2d(15,)\n",
    "        self.pool = nn.MaxPool2d(2,2)\n",
    "        self.fc1 = nn.Linear(1500,64)\n",
    "        #self.fc2 = nn.Linear(512,128)\n",
    "        self.fc3 = nn.Linear(64,7)\n",
    "    def forward(self,x):\n",
    "        x = self.pool(F.relu(self.conv1(x)))\n",
    "        x = self.pool(F.relu(self.conv2(x)))\n",
    "        x = x.view(-1,1500)\n",
    "        x = F.relu(self.fc1(x))\n",
    "        x = (self.fc3(x))\n",
    "        #x = self.fc3(x)\n",
    "        return x\n",
    "    \n",
    "net = Net().cuda()\n",
    "        \n",
    "\n"
   ]
  },
  {
   "cell_type": "code",
   "execution_count": 8,
   "metadata": {
    "collapsed": true
   },
   "outputs": [],
   "source": [
    "#Loaders and optimizer for my own model\n",
    "optimizer = optim.SGD(net.parameters(),lr = 0.001,momentum =0.9)\n",
    "train_loader = DataLoader(train_dataset,batch_size=64,shuffle = True,num_workers=4) \n",
    "test_loader = DataLoader(test_dataset,batch_size=64,shuffle=False,num_workers=4)"
   ]
  },
  {
   "cell_type": "code",
   "execution_count": null,
   "metadata": {
    "collapsed": true
   },
   "outputs": [],
   "source": [
    "#Training model"
   ]
  },
  {
   "cell_type": "code",
   "execution_count": 15,
   "metadata": {
    "scrolled": true
   },
   "outputs": [
    {
     "name": "stdout",
     "output_type": "stream",
     "text": [
      "[1 ,   100] loss: 0.002\n",
      "[1 ,   200] loss: 0.002\n",
      "[1 ,   300] loss: 0.006\n",
      "[1 ,   400] loss: 0.003\n",
      "[2 ,   100] loss: 0.002\n",
      "[2 ,   200] loss: 0.003\n",
      "[2 ,   300] loss: 0.002\n",
      "[2 ,   400] loss: 0.003\n",
      "[3 ,   100] loss: 0.003\n",
      "[3 ,   200] loss: 0.006\n",
      "[3 ,   300] loss: 0.002\n",
      "[3 ,   400] loss: 0.003\n",
      "[4 ,   100] loss: 0.001\n",
      "[4 ,   200] loss: 0.001\n",
      "[4 ,   300] loss: 0.003\n",
      "[4 ,   400] loss: 0.002\n",
      "[5 ,   100] loss: 0.005\n",
      "[5 ,   200] loss: 0.005\n",
      "[5 ,   300] loss: 0.003\n",
      "[5 ,   400] loss: 0.003\n",
      "Finished training\n"
     ]
    }
   ],
   "source": [
    "for epoch in range(5):\n",
    "    sum_loss = 0.0\n",
    "    for idx,data in enumerate(train_loader,0):\n",
    "            inputs,labels = data\n",
    "            inputs = Variable(inputs).cuda()\n",
    "            labels = Variable(labels).cuda()\n",
    "            \n",
    "            optimizer.zero_grad()\n",
    "            \n",
    "            outputs = net(inputs)\n",
    "            loss = criterion(outputs,labels.squeeze_())\n",
    "            loss.backward()\n",
    "            \n",
    "            optimizer.step()\n",
    "            \n",
    "            sum_loss +=loss.data[0]\n",
    "            if idx%100 == 99 :\n",
    "                print('[%d , %5d] loss: %.3f' %\n",
    "                  (epoch + 1,idx + 1,sum_loss /100 ))\n",
    "            sum_loss = 0.0\n",
    "print('Finished training')\n",
    "        "
   ]
  },
  {
   "cell_type": "code",
   "execution_count": null,
   "metadata": {
    "collapsed": true
   },
   "outputs": [],
   "source": [
    "#Accuracy with own model"
   ]
  },
  {
   "cell_type": "code",
   "execution_count": 16,
   "metadata": {
    "scrolled": true
   },
   "outputs": [
    {
     "name": "stdout",
     "output_type": "stream",
     "text": [
      "Accuracy for test 38.562273613820004\n"
     ]
    }
   ],
   "source": [
    "correct = 0 \n",
    "total = 0\n",
    "\n",
    "for data in test_loader:\n",
    "    inputs,labels = data\n",
    "    labels = labels.cuda()\n",
    "    inputs = Variable(inputs).cuda()\n",
    "    outputs = net(inputs)\n",
    "    _, predictions = torch.max(outputs.data, 1)\n",
    "    total += labels.size(0)\n",
    "    correct += (predictions == labels.squeeze_()).sum()\n",
    "print('Accuracy for test',100 * correct / total)\n",
    "\n",
    "\n",
    "\n"
   ]
  },
  {
   "cell_type": "code",
   "execution_count": null,
   "metadata": {
    "collapsed": true
   },
   "outputs": [],
   "source": [
    "#Accuracy with resnet18 model"
   ]
  },
  {
   "cell_type": "code",
   "execution_count": 8,
   "metadata": {},
   "outputs": [
    {
     "name": "stdout",
     "output_type": "stream",
     "text": [
      "Accuracy for test 65.56143772638617\n"
     ]
    }
   ],
   "source": [
    "total = 0\n",
    "correct = 0\n",
    "model_ft = model_ft.eval()\n",
    "for data in test_res_dataloader:\n",
    "    inputs,labels = data\n",
    "    labels = labels.cuda()\n",
    "    inputs = Variable(inputs).cuda()\n",
    "    outputs = model_ft(inputs)\n",
    "    _, predictions = torch.max(outputs.data, 1)\n",
    "    total += labels.size(0)\n",
    "    correct += (predictions == labels.squeeze_()).sum()\n",
    "print('Accuracy for test',100 * correct / total)"
   ]
  },
  {
   "cell_type": "code",
   "execution_count": null,
   "metadata": {
    "collapsed": true
   },
   "outputs": [],
   "source": []
  }
 ],
 "metadata": {
  "kernelspec": {
   "display_name": "Python 3",
   "language": "python",
   "name": "python3"
  },
  "language_info": {
   "codemirror_mode": {
    "name": "ipython",
    "version": 3
   },
   "file_extension": ".py",
   "mimetype": "text/x-python",
   "name": "python",
   "nbconvert_exporter": "python",
   "pygments_lexer": "ipython3",
   "version": "3.6.3"
  }
 },
 "nbformat": 4,
 "nbformat_minor": 2
}
